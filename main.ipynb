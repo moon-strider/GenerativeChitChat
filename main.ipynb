{
 "cells": [
  {
   "cell_type": "code",
   "execution_count": 46,
   "metadata": {},
   "outputs": [],
   "source": [
    "#!pip install -r requirements.txt\n",
    "import math as m\n",
    "import numpy as np\n",
    "import abc\n",
    "\n",
    "from tqdm import tqdm"
   ]
  },
  {
   "cell_type": "code",
   "execution_count": 47,
   "metadata": {},
   "outputs": [],
   "source": [
    "class Dataset:\n",
    "    def __init__():\n",
    "        pass"
   ]
  },
  {
   "cell_type": "code",
   "execution_count": 48,
   "metadata": {},
   "outputs": [
    {
     "name": "stderr",
     "output_type": "stream",
     "text": [
      "100%|██████████| 100000/100000 [00:00<00:00, 320005.13it/s]\n"
     ]
    }
   ],
   "source": [
    "def TTV_split(data, tr, te, va, verbose=False):\n",
    "    total = len(data)\n",
    "    one = total / (tr + te + va)\n",
    "\n",
    "    tr_n = m.floor(tr * one)\n",
    "    te_n = m.floor(te * one)\n",
    "    va_n = m.floor(va * one)\n",
    "\n",
    "    tr_n += (total - tr_n - te_n - va_n)\n",
    "\n",
    "    train_data = np.array([])\n",
    "    test_data = np.array([])\n",
    "    val_data = np.array([])\n",
    "\n",
    "    np.random.shuffle(data)\n",
    "\n",
    "    for i in tqdm(data):\n",
    "        if (len(train_data) < tr_n):\n",
    "            np.append(train_data, i)\n",
    "            continue\n",
    "        if (len(test_data) < te_n):\n",
    "            np.append(test_data, i)\n",
    "            continue\n",
    "        if (len(val_data) < va_n):\n",
    "            np.append(val_data, i)\n",
    "\n",
    "    if verbose:\n",
    "        print(f\"total = {total}\\ntr_n = {len(train_data)} \\nte_n = {len(test_data)} \\nva_n = {len(val_data)}\")\n",
    "    return \n",
    "\n",
    "TTV_split(np.array([i for i in range(100000)]), 12, 4, 1)"
   ]
  },
  {
   "cell_type": "code",
   "execution_count": 52,
   "metadata": {},
   "outputs": [],
   "source": [
    "class nnModule():\n",
    "    def __init__(self, params) -> None:\n",
    "        self.params = params\n",
    "\n",
    "    @abc.abstractclassmethod\n",
    "    def forward(self, x):\n",
    "        pass\n",
    "\n",
    "    @abc.abstractclassmethod\n",
    "    def backward(self, grad):\n",
    "        pass\n",
    "\n",
    "    def __str__(self) -> str:\n",
    "        rs = \"\"\n",
    "        strs = np.array([f\"{i}: {self.params[i]}, \" for i in self.params])\n",
    "        for i in strs:\n",
    "            rs += i\n",
    "        return (f\"{self.name}: (\" + rs[:len(rs)-2] + \")\") if self.params else self.name\n",
    "\n",
    "\n",
    "class Linear(nnModule):\n",
    "    def __init__(self, params) -> None:\n",
    "        super().__init__(params)\n",
    "        try:\n",
    "            if params[\"in_dim\"] < 1 or params[\"out_dim\"] < 1:\n",
    "                raise Exception\n",
    "        except KeyError:\n",
    "            raise Exception(\"You have to set in_dim and out_dim parameters for linear layer\")\n",
    "        except Exception:\n",
    "            raise Exception(\"The in_dim and out_dim have to be greater than zero\")\n",
    "\n",
    "        self.name = \"Linear\"\n",
    "\n",
    "        self.W = np.ones(params[\"out_dim\"])\n",
    "        self.B = np.zeros(params[\"out_dim\"])\n",
    "\n",
    "    def forward(self, x):\n",
    "        return np.dot(self.W, x) + self.B\n",
    "\n",
    "    def backward(self, grad):\n",
    "        pass\n",
    "\n",
    "\n",
    "class ReLU(nnModule):\n",
    "    def __init__(self, params) -> None:\n",
    "        super().__init__(params)\n",
    "\n",
    "\n",
    "class Transformer():\n",
    "    def __init__(self) -> None:\n",
    "        #positional_encoder\n",
    "        #multihead_attention\n",
    "        #sum and norm\n",
    "        #MLP\n",
    "        #sum and norm\n",
    "        #linear\n",
    "        #softmax\n",
    "        pass"
   ]
  },
  {
   "cell_type": "code",
   "execution_count": 55,
   "metadata": {},
   "outputs": [
    {
     "name": "stdout",
     "output_type": "stream",
     "text": [
      "Linear: (in_dim: 384, out_dim: 24)\n"
     ]
    }
   ],
   "source": [
    "linear = Linear(params={\"in_dim\": 384, \"out_dim\": 24})\n",
    "print(linear)"
   ]
  },
  {
   "cell_type": "code",
   "execution_count": null,
   "metadata": {},
   "outputs": [],
   "source": []
  }
 ],
 "metadata": {
  "kernelspec": {
   "display_name": "Python 3.9.15 ('cv')",
   "language": "python",
   "name": "python3"
  },
  "language_info": {
   "codemirror_mode": {
    "name": "ipython",
    "version": 3
   },
   "file_extension": ".py",
   "mimetype": "text/x-python",
   "name": "python",
   "nbconvert_exporter": "python",
   "pygments_lexer": "ipython3",
   "version": "3.9.15"
  },
  "orig_nbformat": 4,
  "vscode": {
   "interpreter": {
    "hash": "c881db0e76e4d07227a54605e4579ac40ea89326ca18881e5cf3019b0657001f"
   }
  }
 },
 "nbformat": 4,
 "nbformat_minor": 2
}
